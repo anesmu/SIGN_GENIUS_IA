{
  "cells": [
    {
      "attachments": {},
      "cell_type": "markdown",
      "metadata": {
        "id": "dp7xyuMUSiyJ"
      },
      "source": [
        "## Antes de comenzar "
      ]
    },
    {
      "cell_type": "code",
      "execution_count": 1,
      "metadata": {
        "colab": {
          "base_uri": "https://localhost:8080/"
        },
        "id": "2d4rXwLOTCk7",
        "outputId": "3aec4a0c-55b4-48a8-d76d-33f375dfe694"
      },
      "outputs": [
        {
          "name": "stdout",
          "output_type": "stream",
          "text": [
            "/Users/anesmu/Desktop/TFG/SIGN_GENIUS_IA/yolo8_hand_classification\n",
            "/Users/anesmu/Desktop/TFG/SIGN_GENIUS_IA/yolo8_hand_classification/data\n"
          ]
        }
      ],
      "source": [
        "import os\n",
        "HOME = os.getcwd()\n",
        "print(HOME)\n",
        "DATA_LOCATION = os.path.join(HOME, \"data\")\n",
        "print(DATA_LOCATION)\n"
      ]
    },
    {
      "cell_type": "code",
      "execution_count": 2,
      "metadata": {
        "colab": {
          "base_uri": "https://localhost:8080/"
        },
        "id": "mvpgl4DnZVxJ",
        "outputId": "6f116363-8b26-4167-e991-66f4f94f94f3"
      },
      "outputs": [
        {
          "name": "stdout",
          "output_type": "stream",
          "text": [
            "Requirement already satisfied: keras in /Users/anesmu/opt/anaconda3/lib/python3.9/site-packages (2.3.1)\n",
            "Requirement already satisfied: pyyaml in /Users/anesmu/opt/anaconda3/lib/python3.9/site-packages (from keras) (6.0)\n",
            "Requirement already satisfied: keras-preprocessing>=1.0.5 in /Users/anesmu/opt/anaconda3/lib/python3.9/site-packages (from keras) (1.1.2)\n",
            "Requirement already satisfied: numpy>=1.9.1 in /Users/anesmu/opt/anaconda3/lib/python3.9/site-packages (from keras) (1.24.2)\n",
            "Requirement already satisfied: scipy>=0.14 in /Users/anesmu/opt/anaconda3/lib/python3.9/site-packages (from keras) (1.9.1)\n",
            "Requirement already satisfied: h5py in /Users/anesmu/opt/anaconda3/lib/python3.9/site-packages (from keras) (3.7.0)\n",
            "Requirement already satisfied: six>=1.9.0 in /Users/anesmu/opt/anaconda3/lib/python3.9/site-packages (from keras) (1.16.0)\n",
            "Requirement already satisfied: keras-applications>=1.0.6 in /Users/anesmu/opt/anaconda3/lib/python3.9/site-packages (from keras) (1.0.8)\n"
          ]
        }
      ],
      "source": [
        "# Libreria para quitar el resultado de código que no es necesario\n",
        "! pip install -q gwpy\n",
        "! pip install keras"
      ]
    },
    {
      "cell_type": "markdown",
      "metadata": {
        "id": "W9OhOu8cTJp-"
      },
      "source": [
        "## Instalación YOLOv8\n",
        "\n",
        "⚠️ **DISCLAIMER** -> YOLOv8 está aún en pleno desarrollo. Y se introducen cambios casi semanalmente. Lo que podría llevar a errores en el cuaderno."
      ]
    },
    {
      "cell_type": "code",
      "execution_count": 3,
      "metadata": {
        "colab": {
          "base_uri": "https://localhost:8080/"
        },
        "id": "AjjJlpPNTEmq",
        "outputId": "d48b24ee-de49-4937-a45e-6b74c70fab56"
      },
      "outputs": [
        {
          "name": "stderr",
          "output_type": "stream",
          "text": [
            "Ultralytics YOLOv8.0.118 🚀 Python-3.9.13 torch-1.13.1 CPU\n",
            "Setup complete ✅ (10 CPUs, 64.0 GB RAM, 255.0/1858.2 GB disk)\n"
          ]
        }
      ],
      "source": [
        "! pip install ultralytics\n",
        "\n",
        "from IPython import display\n",
        "display.clear_output()\n",
        "\n",
        "import ultralytics\n",
        "ultralytics.checks()"
      ]
    },
    {
      "cell_type": "code",
      "execution_count": 4,
      "metadata": {
        "id": "98y9hgP-TWd7"
      },
      "outputs": [],
      "source": [
        "from ultralytics import YOLO\n",
        "\n",
        "from IPython.display import display, Image"
      ]
    },
    {
      "cell_type": "code",
      "execution_count": 5,
      "metadata": {},
      "outputs": [],
      "source": [
        "import os\n",
        "os.environ[\"KMP_DUPLICATE_LIB_OK\"]=\"TRUE\""
      ]
    },
    {
      "cell_type": "code",
      "execution_count": 11,
      "metadata": {},
      "outputs": [
        {
          "name": "stdout",
          "output_type": "stream",
          "text": [
            "Ultralytics YOLOv8.0.118 🚀 Python-3.9.13 torch-1.13.1 CPU\n",
            "[W NNPACK.cpp:53] Could not initialize NNPACK! Reason: Unsupported hardware.\n",
            "YOLOv8m-cls summary (fused): 103 layers, 15770342 parameters, 0 gradients, 41.6 GFLOPs\n",
            "\n",
            "image 1/1 /Users/anesmu/Desktop/TFG/SIGN_GENIUS_IA/yolo8_hand_classification/data/valid/vida/vida10.jpg: 224x224 siempre 0.98, parte 0.02, vida 0.00, pais 0.00, ahora 0.00, 112.7ms\n",
            "Speed: 2.1ms preprocess, 112.7ms inference, 0.1ms postprocess per image at shape (1, 3, 224, 224)\n",
            "Results saved to \u001b[1m/opt/homebrew/runs/classify/predict5\u001b[0m\n"
          ]
        }
      ],
      "source": [
        "!yolo task=classify mode=predict model={HOME}/runs/classify/train/weights/best.pt source={DATA_LOCATION}/valid/vida/vida10.jpg"
      ]
    }
  ],
  "metadata": {
    "accelerator": "GPU",
    "colab": {
      "machine_shape": "hm",
      "provenance": []
    },
    "gpuClass": "premium",
    "kernelspec": {
      "display_name": "base",
      "language": "python",
      "name": "python3"
    },
    "language_info": {
      "codemirror_mode": {
        "name": "ipython",
        "version": 3
      },
      "file_extension": ".py",
      "mimetype": "text/x-python",
      "name": "python",
      "nbconvert_exporter": "python",
      "pygments_lexer": "ipython3",
      "version": "3.9.13"
    },
    "vscode": {
      "interpreter": {
        "hash": "222b8e0346e9e55e339048424356caf283c6ea446dc0fca0dec8b91655236899"
      }
    }
  },
  "nbformat": 4,
  "nbformat_minor": 0
}
